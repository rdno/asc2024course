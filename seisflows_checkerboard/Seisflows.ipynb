{
 "cells": [
  {
   "cell_type": "code",
   "execution_count": null,
   "id": "0c69ed50-abba-4692-bfe4-07a710c19f17",
   "metadata": {},
   "outputs": [],
   "source": [
    "import matplotlib.pyplot as plt\n",
    "import numpy as np\n",
    "import obspy\n",
    "\n",
    "from IPython.display import Image"
   ]
  },
  {
   "cell_type": "code",
   "execution_count": null,
   "id": "d2bbcaf5-9b24-44ee-9250-4075c29b75d2",
   "metadata": {},
   "outputs": [],
   "source": [
    "def read_trace(filename):\n",
    "    \"\"\"Reads an ASCII file and returns a obspy Traces\"\"\"\n",
    "    data = np.loadtxt(filename)\n",
    "    # first column is time, second column is the data\n",
    "    times = data[:, 0]\n",
    "    disp = data[:, 1]\n",
    "    # get station name from the filename\n",
    "    net, sta, comp, *_ = filename.split(\"/\")[-1].split(\".\")\n",
    "    delta = times[1] - times[0]\n",
    "    headers = {\"station\": sta, \"network\": net, \"channel\": comp, \"delta\": delta, \"b\": times[0]}\n",
    "    return obspy.Trace(disp, headers)"
   ]
  },
  {
   "cell_type": "markdown",
   "id": "5bea8722-8515-416c-b12f-d35ffda8ed38",
   "metadata": {},
   "source": [
    "# Running specfem2d workflow with Seisflows\n",
    "\n",
    "> **SeisFlows** is an open-source, Python-based waveform inversion package meant to automate the problems of full waveform inversion, seismic migration, and adjoint tomography on high performance computers.\n",
    "\n",
    "[Documentation](https://seisflows.readthedocs.io/en/latest/index.html)"
   ]
  },
  {
   "cell_type": "markdown",
   "id": "32d6c366-e4e1-4ae7-b842-8468ec1903ea",
   "metadata": {},
   "source": [
    "Setting the relative paths by running [./setup_paths.sh](./setup_paths.sh)"
   ]
  },
  {
   "cell_type": "code",
   "execution_count": null,
   "id": "c967b98b-fec9-4dbd-ac5b-bbfdb6139308",
   "metadata": {},
   "outputs": [],
   "source": [
    "! ./setup_paths.sh"
   ]
  },
  {
   "cell_type": "code",
   "execution_count": null,
   "id": "da1e18f0-d14f-4e34-90c0-7778d2982be0",
   "metadata": {},
   "outputs": [],
   "source": [
    "# clean directory\n",
    "! seisflows clean -f"
   ]
  },
  {
   "cell_type": "markdown",
   "id": "591c4263-85d7-4904-850d-1b3673ad9045",
   "metadata": {},
   "source": [
    "We can check [parameters.yaml](parameters.yaml)"
   ]
  },
  {
   "cell_type": "code",
   "execution_count": null,
   "id": "e4fe0a6c-2fa2-4e2c-a81f-66e74c90ae71",
   "metadata": {},
   "outputs": [],
   "source": [
    "# stop the workflow after gradient computation\n",
    "! seisflows par stop_after evaluate_gradient_from_kernels"
   ]
  },
  {
   "cell_type": "code",
   "execution_count": null,
   "id": "d281fc71-7a23-4765-ab51-11e158d41de8",
   "metadata": {},
   "outputs": [],
   "source": [
    "# run the workflow\n",
    "! seisflows submit"
   ]
  },
  {
   "cell_type": "code",
   "execution_count": null,
   "id": "8cab04e3-86f6-4403-bf61-2186aaba3c8d",
   "metadata": {},
   "outputs": [],
   "source": [
    "# Plot the 'true' or target model\n",
    "! seisflows plot2d MODEL_TRUE vs -s \"model_true.png\"\n",
    "Image(\"model_true.png\")"
   ]
  },
  {
   "cell_type": "code",
   "execution_count": null,
   "id": "644ffdc0-6cdb-47ea-89ac-f098acd8b1b1",
   "metadata": {},
   "outputs": [],
   "source": [
    "! seisflows plot2d GRADIENT_01 vs_kernel -s \"kernel.png\"\n",
    "Image(\"kernel.png\")"
   ]
  },
  {
   "cell_type": "code",
   "execution_count": null,
   "id": "b9837ca3-6453-4397-96c6-569e14c830be",
   "metadata": {},
   "outputs": [],
   "source": [
    "# plot a record\n",
    "! seisflows plotst ./scratch/solver/01/traces/syn/AA.A0000.BXY.semd --save trace.png\n",
    "Image(filename=\"trace.png\")"
   ]
  },
  {
   "cell_type": "code",
   "execution_count": null,
   "id": "d8ffff7c-9e93-412e-b7d8-cf13a1a46f61",
   "metadata": {},
   "outputs": [],
   "source": [
    "obs = read_trace(\"./scratch/solver/01/traces/obs/AA.A0000.BXY.semd\")\n",
    "syn = read_trace(\"./scratch/solver/01/traces/syn/AA.A0000.BXY.semd\")\n",
    "adj = read_trace(\"./scratch/solver/01/traces/adj/AA.A0000.BXY.adj\")"
   ]
  },
  {
   "cell_type": "code",
   "execution_count": null,
   "id": "803ddd08-5527-4cda-89a4-cd59c22d2743",
   "metadata": {},
   "outputs": [],
   "source": [
    "fig, (ax, bx) = plt.subplots(figsize=(18, 6), nrows=2)\n",
    "ax.plot(obs.times(), obs.data, \"k\")\n",
    "ax.plot(syn.times(), syn.data, \"r\")\n",
    "ax.set_xlim(0, 280)\n",
    "bx.plot(adj.times(), adj.data, \"g\")"
   ]
  },
  {
   "cell_type": "code",
   "execution_count": null,
   "id": "42a1c06f-c162-4124-b853-f2c883d2d506",
   "metadata": {},
   "outputs": [],
   "source": [
    "! seisflows par stop_after null\n",
    "# Resume the workflow\n",
    "! seisflows submit"
   ]
  },
  {
   "cell_type": "code",
   "execution_count": null,
   "id": "71b15fef-7b25-43ea-9b6f-a2c26f51404e",
   "metadata": {},
   "outputs": [],
   "source": [
    "! seisflows plot2d MODEL_01 vs -s \"model_01.png\"\n",
    "Image(\"model_01.png\")"
   ]
  },
  {
   "cell_type": "code",
   "execution_count": null,
   "id": "6f0b844f-1f31-4edb-8e0d-147fffa8f0b6",
   "metadata": {},
   "outputs": [],
   "source": [
    "! seisflows plot2d MODEL_02 vs -s \"model_02.png\"\n",
    "Image(\"model_02.png\")"
   ]
  }
 ],
 "metadata": {
  "kernelspec": {
   "display_name": "Python 3 (ipykernel)",
   "language": "python",
   "name": "python3"
  },
  "language_info": {
   "codemirror_mode": {
    "name": "ipython",
    "version": 3
   },
   "file_extension": ".py",
   "mimetype": "text/x-python",
   "name": "python",
   "nbconvert_exporter": "python",
   "pygments_lexer": "ipython3",
   "version": "3.12.7"
  }
 },
 "nbformat": 4,
 "nbformat_minor": 5
}
