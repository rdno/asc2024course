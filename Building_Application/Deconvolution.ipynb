{
 "cells": [
  {
   "cell_type": "code",
   "execution_count": null,
   "id": "0a2358ff-0e9e-401b-ab39-488b484bd008",
   "metadata": {},
   "outputs": [],
   "source": [
    "%matplotlib ipympl"
   ]
  },
  {
   "cell_type": "code",
   "execution_count": null,
   "id": "c60ce35d-d68f-4f99-bd84-da11c6469ccc",
   "metadata": {},
   "outputs": [],
   "source": [
    "from IPython.display import display, HTML\n",
    "display(HTML(\"<style>:root { --jp-notebook-max-width: 100% !important; }</style>\"))"
   ]
  },
  {
   "cell_type": "code",
   "execution_count": null,
   "id": "60139c11-f56b-4c62-b4b8-cc004a38b936",
   "metadata": {},
   "outputs": [],
   "source": [
    "import pandas as pd\n",
    "import numpy as np\n",
    "from obspy import read_inventory, read, UTCDateTime\n",
    "from scipy import signal\n",
    "import matplotlib.pyplot as plt\n",
    "from matplotlib.widgets import SpanSelector\n",
    "from matplotlib.widgets import Button\n",
    "from functools import partial\n",
    "from collections import defaultdict\n",
    "import os, glob, warnings, math\n",
    "warnings.filterwarnings(\"ignore\")"
   ]
  },
  {
   "cell_type": "markdown",
   "id": "7075af2d-36ac-4b32-b449-813ea9a8edbf",
   "metadata": {},
   "source": [
    "# Functions"
   ]
  },
  {
   "cell_type": "code",
   "execution_count": null,
   "id": "21a48907-1685-4675-be92-5a35cd25de47",
   "metadata": {},
   "outputs": [],
   "source": [
    "# FFT\n",
    "def calc_fft(data,npts,sr):\n",
    "\t'''\n",
    "\tdata: time series signal\n",
    "\tnpts: number of points in time series\n",
    "\tsr: sampling rate\n",
    "\t'''\n",
    "\tFdat = np.fft.fft(data,npts)\n",
    "\tfreq = np.fft.fftfreq(npts, d=1./sr)\n",
    "\treturn Fdat, freq #2.0/sr * np.abs(Fdat)  np.abs(Fdat) \n",
    "\n",
    "#iFFT\n",
    "def calc_ifft(data):\n",
    "\t'''\n",
    "\tdata: FFT of a signal\n",
    "\t'''\n",
    "\treturn np.fft.ifft(data) #irfft\n",
    "\n",
    "# Regularization\n",
    "def regularization(uref,sp=1):\n",
    "\t'''\n",
    "\turef: FFT of reference station\n",
    "\tsp: The spectral percentage to define epsilon (the regularisation parameter) defined in %\n",
    "\t'''\n",
    "\taverage_spectral_power = np.mean(abs(uref) ** 2)\n",
    "\treturn  sp/100 * average_spectral_power\n",
    "\n",
    "# Deconvolution\n",
    "def deconvolve(uref,usta,sp=1,time_domain=True):\n",
    "\t'''\n",
    "\turef: FFT of the reference station\n",
    "\tusta: FFT of the signal that is going to be deconvolved\n",
    "\ttime_domain: Default (True) if true, return deconvolution in time domain, for not return in frequency domain.\n",
    "\t'''\n",
    "\tfft_deco = usta * np.conj(uref) / (abs(uref)**2 + regularization(uref,sp=sp))\n",
    "\t#deconvolution\n",
    "\tif time_domain:\n",
    "\t\treturn np.real(calc_ifft(fft_deco))\n",
    "\telse:\n",
    "\t\treturn fft_deco\n",
    "\n",
    "# Seismic interferometry by deconvolution using Tikhonov regularisation\n",
    "def interfer_tikhonov(decon,sr,r,dstack,time_domain=True):\n",
    "\t'''\n",
    "\tInputs = \n",
    "\tdecon: deconvolved data\n",
    "\tsr: sampling rate\n",
    "\tr: Factor of signal resampling for better peak picking (signal * r)\n",
    "\tdstact: Duration of the deconvolved signal to stack (in [sec])\n",
    "\ttime_domin: Default (True) if true, decon is in time domain, if not it is in frequency domain.\n",
    "\tOutputs = \n",
    "\tsig_deco_r: output signal in time domain\n",
    "\tt: time axis information\n",
    "\t'''\n",
    "\t# Convert from Frequency domain to time domain\n",
    "\tif time_domain:\n",
    "\t\tsig_deco = decon\n",
    "\telse:\n",
    "\t\tsig_deco = np.real(calc_ifft(decon))\n",
    "\t# deconvolved signal length\n",
    "\tnt = len(sig_deco) \n",
    "\tFs_r = sr * r\n",
    "\t# flipping the signal\n",
    "\tsig_deco = np.fft.fftshift(sig_deco)\n",
    "\t# signal resampling -> resample(sig, number of samples) --> sig * p/q\n",
    "\tsig_deco = signal.resample(sig_deco, nt*r)\n",
    "\tnt2 = len(sig_deco)   # length of the resampled signal\n",
    "\t# deconvolved and resampled signal - taken just the dstack*2 length\n",
    "\tsig_deco = sig_deco[(math.floor(nt2/2)-int(dstack*Fs_r)):(math.floor(nt2/2)+1+int(dstack*Fs_r))]\n",
    "\t# time axis for the interferogram\n",
    "\tt = np.linspace(-dstack, dstack, len(sig_deco))\n",
    "\treturn sig_deco, t"
   ]
  },
  {
   "cell_type": "markdown",
   "id": "d9e140a8-5ad8-4e5c-8427-dc07ff3e48f5",
   "metadata": {},
   "source": [
    "# Building Information"
   ]
  },
  {
   "cell_type": "markdown",
   "id": "8f4012d8-467b-42aa-b1c8-dfc2b5c3e4e4",
   "metadata": {},
   "source": [
    "![Bologna Building](Building.png)"
   ]
  },
  {
   "cell_type": "code",
   "execution_count": null,
   "id": "2588d8f2-36ab-466e-9b81-1432b256bdff",
   "metadata": {},
   "outputs": [],
   "source": [
    "building_height= {'RE001':6,'RE002':18,'RE003':27,'RE004':39,'RE005':48,'RE006':60}\n",
    "results = {key: {'N':[],'E':[]} for key in building_height.keys()}\n",
    "sta_ref = 'RE006'"
   ]
  },
  {
   "cell_type": "markdown",
   "id": "b4b931c3-b8a5-459c-a30c-a0d475b23449",
   "metadata": {},
   "source": [
    "### Parameters"
   ]
  },
  {
   "cell_type": "code",
   "execution_count": null,
   "id": "71df5c68-3899-47dc-bc49-1b5066ae6e78",
   "metadata": {},
   "outputs": [],
   "source": [
    "dstack = 1 # Duration of the deconvolved signal to stack (in [sec])\n",
    "r = 2 # Factor of signal resampling for better peak picking (signal * r)\n",
    "sp = 1 # the regularisation parameter\n",
    "amplifier = 50 # Add Station height to amplitudes | For visualization!"
   ]
  },
  {
   "cell_type": "markdown",
   "id": "70a7d35b-730c-4c08-92cc-29bf9d618eb3",
   "metadata": {},
   "source": [
    "# Read Waveform"
   ]
  },
  {
   "cell_type": "code",
   "execution_count": null,
   "id": "03d46a43-8d13-4f03-a2b5-c4001c853069",
   "metadata": {},
   "outputs": [],
   "source": [
    "st = read('Data/Earthquake/*',format='MSEED')\n",
    "st.sort();"
   ]
  },
  {
   "cell_type": "markdown",
   "id": "5cbc2f33-9403-40e4-ab2e-3ec8af772810",
   "metadata": {},
   "source": [
    "## Data Processing"
   ]
  },
  {
   "cell_type": "code",
   "execution_count": null,
   "id": "d215811e-dd42-4207-b47a-6cd7f69952b3",
   "metadata": {},
   "outputs": [],
   "source": [
    "st.detrend()\n",
    "st.taper(max_percentage=0.05)\n",
    "st.filter('bandpass',freqmin=0.2,freqmax=15);\n",
    "for tr in st:\n",
    "    if tr.stats.station not in building_height.keys():\n",
    "        st.remove(tr)"
   ]
  },
  {
   "cell_type": "markdown",
   "id": "138ff3ad-ef92-4cfa-a6df-f1cad24b8023",
   "metadata": {},
   "source": [
    "# Deconvolution"
   ]
  },
  {
   "cell_type": "code",
   "execution_count": null,
   "id": "f30661ba-b8f2-435a-930a-f3a587499ba5",
   "metadata": {},
   "outputs": [],
   "source": [
    "# Result DataFrame\n",
    "db_res = pd.DataFrame()\n",
    "# Figure\n",
    "fig, axs = plt.subplots(1,len(results[sta_ref].keys()),sharex=True,sharey=True,dpi=100,figsize=(10,5))\n",
    "fig.text(0.5, 0.0, 'Time [s]', ha='center')\n",
    "axs[0].set_ylabel('Sensor offset [m]')\n",
    "axs[0].set_xlim([-dstack,dstack])\n",
    "axs[0].set_ylim([0,70])\n",
    "for i, chan in enumerate(results[sta_ref].keys()):\n",
    "    st_chan = st.select(component=chan)\n",
    "    # Sort Stations on the building\n",
    "    st_chan.sort()\n",
    "    # Get FFT of Reference Station\n",
    "    tr_ref = st_chan.select(station=sta_ref)[0]\n",
    "    npts = tr_ref.stats.npts\n",
    "    sr = tr_ref.stats.sampling_rate\n",
    "    fft_ref, freqs_ref = calc_fft(tr_ref.data,npts,sr)\n",
    "    # Start Calculating Deconvolution\n",
    "    for tr_int in st_chan:\n",
    "        # Get FFTs of station of interest\n",
    "        fft_int, freqs_int = calc_fft(tr_int.data,npts,sr)\n",
    "        # Deconvolution\n",
    "        decon = deconvolve(fft_ref,fft_int,sp=sp,time_domain=True) #decon\n",
    "        # Time signals of deconvolved station signal by using Tikhonov regularization method.\n",
    "        sig_deco_r, t = interfer_tikhonov(decon,sr,r=r,dstack=dstack,time_domain=True)\n",
    "\n",
    "        # Plotting\n",
    "        height = building_height[tr_int.stats.station]\n",
    "        y = (sig_deco_r*amplifier)+height\n",
    "        if tr_int.stats.station == 'RE006':\n",
    "            c = 'r'\n",
    "        else:\n",
    "            c = 'k'\n",
    "        axs[i].plot(t,y,c=c)\n",
    "        # Add RE Deconvolved signal\n",
    "        if tr_int.stats.station != sta_ref:\n",
    "            db_res[tr_int.stats.station+'.'+tr_int.stats.channel] = sig_deco_r\n",
    "        axs[i].text(-dstack + 0.05,(sig_deco_r[10]*amplifier)+height+2,s=tr_int.stats.station,size=16,c=c)\n",
    "        # Fill Between baseline to positive area\n",
    "        where=np.array(y)>height\n",
    "        axs[i].fill_between(t,height, y,where,color='grey')\n",
    "        axs[i].grid(True,axis='x', linestyle='--')\n",
    "\n",
    "# Fill out the DataFrame\n",
    "db_res['Time'] = t\n",
    "col = db_res.pop('Time')\n",
    "db_res.insert(0, col.name, col)\n",
    "db_res.to_csv('Data/deconvolution.csv',index=False)\n",
    "\n",
    "fig.tight_layout()\n",
    "fig.savefig('Figures/Deconvolution.png')"
   ]
  },
  {
   "cell_type": "markdown",
   "id": "23a92664-5764-48df-b038-8af3354a0b4a",
   "metadata": {},
   "source": [
    "# Determination of Picks"
   ]
  },
  {
   "cell_type": "code",
   "execution_count": null,
   "id": "9ea20eb0-a1bd-4a26-9137-e0fc2efebedb",
   "metadata": {},
   "outputs": [],
   "source": [
    "db_res"
   ]
  },
  {
   "cell_type": "code",
   "execution_count": null,
   "id": "bfff9cec-2357-4366-9198-c8cd9fcc1768",
   "metadata": {},
   "outputs": [],
   "source": [
    "def timepick(t,wfs,stas,chan,start_stop):\n",
    "\tglobal t_neg_pos, db_res\n",
    "\t\"\"\"Select start and end points\"\"\"\n",
    "\tnsta = wfs.shape[0]\t\n",
    "\t\n",
    "\tfig, axes = plt.subplots(nrows=nsta, sharex=True, figsize=(9, 2*nsta), squeeze=False)\n",
    "\taxes = axes.flatten()\n",
    "\taxes[0].set_title(f'Channel: {chan}')\n",
    "\tst_axes = defaultdict(list)\n",
    "\tfor i, tr in enumerate(wfs):\n",
    "\t\taxes[i].plot(t, tr, \"k\", label=stas[i])\n",
    "\t\twhere=np.array(tr)>0\n",
    "\t\taxes[i].fill_between(t,0, tr,where,color='grey')\n",
    "\t\taxes[i].legend(loc='upper right')\n",
    "\n",
    "\t\t# Predetermined positions\n",
    "\t\t# Negative Part\n",
    "\t\tneg_idx = np.where(np.array(t)<0)[0]\n",
    "\t\t# Positive Part\n",
    "\t\tpos_idx = np.where(np.array(t)>=0)[0]\n",
    "\t\t# Global Maxima Method\n",
    "\t\t# Negative Values\n",
    "\t\tmax_neg_val = max(tr[neg_idx])\n",
    "\t\tmax_neg_t = t[np.argmax(tr[neg_idx], axis=0)]\n",
    "\t\t# Positive Values\n",
    "\t\tmax_pos_val = max(tr[pos_idx])\n",
    "\t\tmax_pos_t = t[np.where(tr == max_pos_val)[0][0]]\n",
    "\n",
    "\t\taxes[i].scatter(max_pos_t,max_pos_val,color='r')\n",
    "\t\taxes[i].scatter(max_neg_t,max_neg_val,color='r')\n",
    "\n",
    "\t\t# Test\n",
    "\t\tt_neg_pos = t_neg_pos.append({'Station':stas[i], 'Neg_t':max_neg_t, 'Pos_t':max_pos_t, 'Neg_v': max_neg_val, 'Pos_v':max_pos_val}, ignore_index=True)#\n",
    "\t\t\n",
    "\t\t# Edges of the graph\n",
    "\t\tymin, ymax = np.min(tr)*1.2, np.max(tr)*1.2\n",
    "\t\taxes[i].set_xlim(t[0], t[-1])\n",
    "\t\taxes[i].set_ylim(ymin, ymax)\n",
    "\t\taxes[i].grid('on','both')\n",
    "\t\t\n",
    "\t\tst_axes[stas[i]].append(i)\n",
    "\t\t\n",
    "\taxes[-1].set_xlabel(\"Time (s)\")\n",
    "\t\t\n",
    "\tps = {}\n",
    "\tss = {}\n",
    "\tdef onselect(tmin, tmax, station, label):\n",
    "\t\tglobal t_neg_pos, db_res\n",
    "\t\tlabelcolor = {'upgoing':'b','downgoing':'r'}\n",
    "\t\tfor i in st_axes[station]:\n",
    "\t\t\ttmin_ontime = db_res.iloc[(db_res['Time']-tmin).abs().argsort()[:2]].Time.tolist()[0]\n",
    "\t\t\tmin_idx = db_res.loc[db_res['Time'] == tmin_ontime].Time.index[0]\n",
    "\t\t\ttmax_ontime = db_res.iloc[(db_res['Time']-tmax).abs().argsort()[:2]].Time.tolist()[0]\n",
    "\t\t\tmax_idx = db_res.loc[db_res['Time'] == tmax_ontime].Time.index[0]\n",
    "\t\t\tt_neg_pos = t_neg_pos.append({'Station':stas[i], 'Neg_t':tmin, 'Pos_t':tmax, 'Neg_v': wfs[i][min_idx], 'Pos_v':wfs[i][max_idx]}, ignore_index=True)#\n",
    "\t\t\tif i in ps:\n",
    "\t\t\t\tps[i].pop(0).remove()\n",
    "\t\t\t\tss[i].pop(0).remove()\n",
    "\t\t\tps[i] = axes[i].plot([tmin, tmin], axes[i].get_ylim(), c=f'{labelcolor[label]}',linestyle='--')\n",
    "\t\t\tss[i] = axes[i].plot([tmax, tmax], axes[i].get_ylim(), c=f'{labelcolor[label]}',linestyle='--')\n",
    "\t\t\taxes[i].vlines([tmin, tmin], ymin=axes[i].get_ylim()[0],ymax=axes[i].get_ylim()[1], color=f'{labelcolor[label]}',linestyle='--')\n",
    "\t\t\taxes[i].vlines([tmax, tmax], ymin=axes[i].get_ylim()[0],ymax=axes[i].get_ylim()[1], color=f'{labelcolor[label]}',linestyle='--')\n",
    "\t\t\taxes[i].text(tmin,0,s=str(round(tmin,2)))\n",
    "\t\t\taxes[i].text(tmax,0,s=str(round(tmax,2)))\n",
    "\t\t\tfig.canvas.draw()\n",
    "\tselectors = []\n",
    "\tclass Index(object):\n",
    "\t\tind = 0\n",
    "\t\tdef down(self, event):\n",
    "\t\t\tfor i in range(nsta):\n",
    "\t\t\t\tselectors.append(SpanSelector(axes[i], partial(onselect, station=stas[i], label='downgoing'), \"horizontal\", useblit=True))#,props=dict(alpha=0.5, facecolor=\"tab:red\")))\n",
    "\t\tdef up(self, event):\n",
    "\t\t\tfor i in range(nsta):\n",
    "\t\t\t\tselectors.append(SpanSelector(axes[i], partial(onselect, station=stas[i], label='upgoing'),   \"horizontal\", useblit=True))#,props=dict(alpha=0.5, facecolor=\"tab:blue\")))\n",
    "\tdef change_up(event):\n",
    "\t\tbup.color = 'b'\n",
    "\t\tbup.hovercolor = bup.color\n",
    "\t\tfig.canvas.draw()\n",
    "\tdef change_down(event):\n",
    "\t\tbdown.color = 'r'\n",
    "\t\tbdown.hovercolor = bdown.color\n",
    "\t\tfig.canvas.draw()\n",
    "\t\n",
    "\tcallback = Index()\n",
    "\taxup = plt.axes([0.7, 0.05, 0.1, 0.035])\n",
    "\t# axdown = plt.axes([0.81, 0.05, 0.1, 0.035])\n",
    "\t# # Upgoing and Downgoing\n",
    "\t# bup = Button(axdown, 'Upgoing')\n",
    "\t# bup.on_clicked(callback.up)\n",
    "\t# bup.on_clicked(change_up)\n",
    "\tbdown = Button(axup, 'Downgoing')\n",
    "\tbdown.on_clicked(callback.down)\n",
    "\tbdown.on_clicked(change_down)\n",
    "\tplt.show()\n",
    "\treturn fig, axes, selectors, t_neg_pos"
   ]
  },
  {
   "cell_type": "code",
   "execution_count": null,
   "id": "2733a0ef-cae6-4104-85a9-ba317524f605",
   "metadata": {},
   "outputs": [],
   "source": [
    "# Negative Part\n",
    "neg_idx = db_res[db_res.Time < 0].index\n",
    "# Positive Part\n",
    "pos_idx = db_res[db_res.Time >= 0].index"
   ]
  },
  {
   "cell_type": "code",
   "execution_count": null,
   "id": "30830410-05b4-4443-a2e1-5acd78e0a6e1",
   "metadata": {},
   "outputs": [],
   "source": [
    "for chan in ['E']:#,'N'\n",
    "    t_neg_pos = pd.DataFrame(columns=['Station', 'Neg_t' ,'Pos_t','Neg_v','Pos_v'])#\n",
    "    stas = [];\n",
    "    wfs = []\n",
    "    \n",
    "    for col in db_res.columns[1:][::-1]:\n",
    "        sta = col.split('.')[0]\n",
    "        if col[-1] == chan:\t\n",
    "            stas.append(sta)\n",
    "            wfs.append(db_res[col])\n",
    "            t = db_res[db_res.columns[0]].to_numpy()\n",
    "    wfs = np.array(wfs)\n",
    "    _,_,_, t_neg_pos = timepick(t,wfs,stas,chan,t_neg_pos)    "
   ]
  },
  {
   "cell_type": "markdown",
   "id": "390f2735-0ea3-4d42-9ac7-9c5047da4f99",
   "metadata": {},
   "source": [
    "## Remove Automatic Picks with Manual Ones"
   ]
  },
  {
   "cell_type": "code",
   "execution_count": null,
   "id": "cd34c7e0-951f-45fb-94cb-271ac833e839",
   "metadata": {},
   "outputs": [],
   "source": [
    "t_neg_pos = t_neg_pos.drop_duplicates(['Station'], keep='last').sort_values('Station',ascending=False)\n",
    "t_neg_pos.to_csv(f'Data/Deconvolution_{chan}.csv',index=False)"
   ]
  },
  {
   "cell_type": "code",
   "execution_count": null,
   "id": "a1c7eb4e-1548-4881-8ece-e8e76db9de7a",
   "metadata": {},
   "outputs": [],
   "source": [
    "t_neg_pos"
   ]
  },
  {
   "cell_type": "markdown",
   "id": "10777de2-bcc8-4607-b3e0-ca8f76713d63",
   "metadata": {},
   "source": [
    "# Calculate Velocity Structure"
   ]
  },
  {
   "cell_type": "code",
   "execution_count": null,
   "id": "50be8b22-bf31-45aa-9126-1ac05e308380",
   "metadata": {},
   "outputs": [],
   "source": [
    "fig, axs = plt.subplots(1,2,dpi=100,figsize=(10,8))\n",
    "for j,chan in enumerate(['E']):#results[sta_ref].keys()\n",
    "\tt_neg_pos = pd.read_csv(f'Data/Deconvolution_{chan}.csv')\n",
    "\txs = []; ys = [];\n",
    "\tfor col in db_res.columns[1:]:\n",
    "\t\tsta = col.split('.')[0]\n",
    "\t\tif col[-1] == chan:\n",
    "\t\t\tmax_pos_val =t_neg_pos[t_neg_pos.Station == sta].Pos_v.iloc[0]\n",
    "\t\t\tmax_neg_val = t_neg_pos[t_neg_pos.Station == sta].Neg_v.iloc[0]\n",
    "\t\t\tmax_pos_t = t_neg_pos[t_neg_pos.Station == sta].Pos_t.iloc[0]\n",
    "\t\t\tmax_neg_t = t_neg_pos[t_neg_pos.Station == sta].Neg_t.iloc[0]\n",
    "\t\t\t\n",
    "\t\t\taxs[1].scatter(building_height[sta]-building_height[sta_ref],max_pos_t,color='k')\n",
    "\t\t\tys.append(building_height[sta]-building_height[sta_ref])\n",
    "\t\t\txs.append(max_pos_t)\n",
    "\t\t\taxs[1].scatter(building_height[sta_ref]-building_height[sta],max_neg_t,color='k')\n",
    "\t\t\tys.append(building_height[sta_ref]-building_height[sta])\n",
    "\t\t\txs.append(max_neg_t)\n",
    "\t\t\t# Plot Deconvolved Signal\n",
    "\t\t\tamplifier = 50\n",
    "\t\t\theight = building_height[sta]\n",
    "\t\t\ty = (db_res[col]*amplifier)+height\n",
    "\t\t\taxs[0].plot(db_res.Time,y,c='k')\n",
    "\t\t\t# Fill Between baseline to positive area\n",
    "\t\t\twhere=np.array(y)>height\n",
    "\t\t\taxs[0].fill_between(db_res.Time,height, y,where,color='grey')\n",
    "\t\t\taxs[0].grid(True,axis='x', linestyle='--')\n",
    "\t\t\t# Plot station name\n",
    "\t\t\taxs[0].text(-1.0,building_height[sta]+1,s=sta,size=12,c='k')\n",
    "\t\t\t# Put Maximum Locations on top\n",
    "\t\t\taxs[0].scatter(max_pos_t,(max_pos_val*amplifier)+height,color='r')\n",
    "\t\t\taxs[0].scatter(max_neg_t,(max_neg_val*amplifier)+height,color='r')\n",
    "\t# Fit a line\n",
    "\tcoef = np.poly1d(np.polyfit(ys,xs, 1))\n",
    "\txn = np.linspace(-60,60,100)\n",
    "\taxs[1].plot(xn,coef(xn),c='r')\n",
    "\t# Cosmetics\n",
    "\txlim = max(ys)*1.1\n",
    "\tylim = max(abs(np.array(xs)))*1.1\n",
    "\taxs[1].set_xlim([-xlim,xlim])\n",
    "\taxs[1].set_ylim([-ylim,ylim])\n",
    "\taxs[1].text(-xlim*0.9,-ylim+ylim*0.1,s=f'{coef}\\nc = {round(1/(coef(1)-coef(0)),2)} m/s')\n",
    "\taxs[0].set_xlim([-1,1])\n",
    "\taxs[0].set_xlabel('Time [s]')\n",
    "\taxs[0].set_ylabel('Sensor offset [m]')\n",
    "\taxs[1].set_xlabel('Distance [m]')\n",
    "\taxs[1].set_ylabel('Time [s]')\n",
    "\tplt.tight_layout()\n",
    "plt.savefig(f'Figures/velocity_structure_{chan}.png')\n",
    "# plt.close(fig)"
   ]
  },
  {
   "cell_type": "code",
   "execution_count": null,
   "id": "3762eedd-ec6b-4f41-9416-bda6991b7b70",
   "metadata": {},
   "outputs": [],
   "source": []
  }
 ],
 "metadata": {
  "kernelspec": {
   "display_name": "Python 3 (ipykernel)",
   "language": "python",
   "name": "python3"
  },
  "language_info": {
   "codemirror_mode": {
    "name": "ipython",
    "version": 3
   },
   "file_extension": ".py",
   "mimetype": "text/x-python",
   "name": "python",
   "nbconvert_exporter": "python",
   "pygments_lexer": "ipython3",
   "version": "3.9.18"
  }
 },
 "nbformat": 4,
 "nbformat_minor": 5
}
