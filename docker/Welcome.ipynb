{
 "cells": [
  {
   "cell_type": "markdown",
   "id": "04c2ceff-c334-453f-a841-eecf7ad8ee2c",
   "metadata": {},
   "source": [
    "# Welcome\n",
    "\n",
    "To download the notebook execute the next cell using $\\blacktriangleright$ button or by hitting `Shift+Enter`."
   ]
  },
  {
   "cell_type": "code",
   "execution_count": null,
   "id": "ba68da42-c3e6-4b4b-b9ea-7b8e25a73569",
   "metadata": {},
   "outputs": [],
   "source": [
    "! cd /notebooks\n",
    "! git clone https://github.com/rdno/asc2024course.git"
   ]
  },
  {
   "cell_type": "markdown",
   "id": "b9ff45dc-acff-4d0f-8fc6-ef778a92d279",
   "metadata": {},
   "source": [
    "Now you can open the course notebooks here:\n",
    "\n",
    "- [Processing Observed & Synthetic Data](./asc2024course/process_obsd_and_synt/Comparing_Observed_and_Synthetic_Data.ipynb)\n",
    "- [Building_Application/Noise_SpectralRatio.ipynb](./asc2024course/Building_Application/Noise_SpectralRatio.ipynb)"
   ]
  }
 ],
 "metadata": {
  "kernelspec": {
   "display_name": "Python 3 (ipykernel)",
   "language": "python",
   "name": "python3"
  },
  "language_info": {
   "codemirror_mode": {
    "name": "ipython",
    "version": 3
   },
   "file_extension": ".py",
   "mimetype": "text/x-python",
   "name": "python",
   "nbconvert_exporter": "python",
   "pygments_lexer": "ipython3",
   "version": "3.12.4"
  }
 },
 "nbformat": 4,
 "nbformat_minor": 5
}
